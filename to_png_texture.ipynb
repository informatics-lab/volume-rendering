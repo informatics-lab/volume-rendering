{
 "metadata": {
  "name": "",
  "signature": "sha256:442f17d7a3cf843d2eb5fd03bd0b7d538266c9b82a168f584fc26d314042446b"
 },
 "nbformat": 3,
 "nbformat_minor": 0,
 "worksheets": [
  {
   "cells": [
    {
     "cell_type": "markdown",
     "metadata": {},
     "source": [
      "This notebook converts a 3D array into a 2D png suitable for loading as a texture into WebGL"
     ]
    },
    {
     "cell_type": "code",
     "collapsed": false,
     "input": [
      "import png\n",
      "import numpy as np"
     ],
     "language": "python",
     "metadata": {},
     "outputs": [],
     "prompt_number": 1
    },
    {
     "cell_type": "markdown",
     "metadata": {},
     "source": [
      "Make some syntheic 4 x 4 x 4 data to play with. Note that this is a useful shape as the dimension lengths of the 2D texture have to be square numbers."
     ]
    },
    {
     "cell_type": "markdown",
     "metadata": {},
     "source": [
      "We should also try and combine all of this into a generic function"
     ]
    },
    {
     "cell_type": "code",
     "collapsed": false,
     "input": [
      "\"\"\"\n",
      "This module converts 3D (x, y, z) numpy arrays of data tiles (x, y) of data\n",
      "in png files. These can then be read as WebGL textures.\n",
      "\n",
      "The z dimension is deconstructed and the component x, y data is tiled as follows:\n",
      "Columns, then rows, then channel (increasing through R, G, B, A). Note that\n",
      "the RGBA values are unrelated to colors or alpha, they are merely data\n",
      "channels.\n",
      "\n",
      "\"\"\"\n",
      "\n",
      "from __future__ import division\n",
      "import png\n",
      "\n",
      "def tile_array(a, maxx=256, maxy=256, maxz=4):\n",
      "    \"\"\"\n",
      "    Flattens an x,y,z 3D array into an array of x,y tiles\n",
      "    \n",
      "    Tiling order is column, followed by row, followed by channel\n",
      "    \n",
      "    Args:\n",
      "        * a (numpy array): a 3d numpy array of data\n",
      "        * max<xyz> (int): the limits of the image size in pixels.\n",
      "            NB that maxz is either 1 (Grayscale), 3 (RGB) or 4 (RGBA)\n",
      "        \n",
      "    This could be made more efficient using stride tricks\n",
      "    \n",
      "    \"\"\"\n",
      "    \n",
      "    pngarray = np.zeros([maxx, maxy, maxz])\n",
      "    datax, datay, dataz = a.shape\n",
      "    itiles = int(maxx/datax)\n",
      "    jtiles = int(maxy/datay)\n",
      "    zslice = 0\n",
      "    \n",
      "    for z in range(maxz):\n",
      "        for jtile in range(jtiles):\n",
      "            for itile in range(itiles):\n",
      "                _xmin = itile*datax\n",
      "                _xmax = (itile+1)*datax\n",
      "                _ymin = jtile*datay\n",
      "                _ymax = (jtile+1)*datay\n",
      "                \n",
      "                pngarray[_xmin:_xmax, _ymin:_ymax, z] = a[:, :, zslice]\n",
      "                if z+1 == maxz and jtile+1 == jtiles and itile+1 == itiles:\n",
      "                    if zslice+1 < dataz:\n",
      "                        print \"Output array satuated\"\n",
      "                    return pngarray\n",
      "                elif zslice < dataz:\n",
      "                    pngarray[_xmin:_xmax, _ymin:_ymax, z] = a[:, :, zslice]\n",
      "                    zslice += 1\n",
      "\n",
      "\n",
      "def write_png(array, savep, height=256, width=256):\n",
      "    \"\"\"\n",
      "    Writes a tiled array to a png image\n",
      "\n",
      "    args:\n",
      "        * array: x, y, rgba array\n",
      "        * savep: output file\n",
      "        * height/width: the height/width of the image.\n",
      "            Must be a square number for use with WebGL\n",
      "            textures. Need not be equal to each other.\n",
      "\n",
      "    \"\"\"\n",
      "    \n",
      "    if (height**0.5)%1 != 0.0 or (width**0.5)%1 != 0.0:\n",
      "        raise ValueError(\"Dimensions must be square numbers i.e. sqrt(n) must be an integer\")\n",
      "    \n",
      "    png_writer = png.Writer(height=height, width=width, alpha='RGBA')\n",
      "    with open(savep, 'wb') as f:\n",
      "        flat_array = array.reshape(-1, width*4) #assuming RGBA i.e. 4 channels\n",
      "        png_writer.write(f, flat_array)\n",
      "    \n",
      "\n",
      "def array_to_png(data, filename, height=256, width=256):\n",
      "    \"\"\" Converts a x,y,z 3D array to a tiled png image \"\"\"\n",
      "    tiled_array = tile_array(data, maxx=height, maxy=width, maxz=4)\n",
      "    write_png(tiled_array, filename, height, width)\n",
      "\n",
      "\n",
      "if __name__ == '__main__':\n",
      "    print \"Making example tiled png ./example.png\"\n",
      "    data = np.empty([128, 128, 16])\n",
      "    for k in range(16):\n",
      "        data[:,:,k] = k * 10\n",
      "\n",
      "\n",
      "        array_to_png(data, \"example.png\")"
     ],
     "language": "python",
     "metadata": {},
     "outputs": [
      {
       "output_type": "stream",
       "stream": "stdout",
       "text": [
        "Making example tiled png ./example.png\n"
       ]
      }
     ],
     "prompt_number": 105
    },
    {
     "cell_type": "code",
     "collapsed": false,
     "input": [
      "data = np.zeros([64, 64, 64])\n",
      "data[30:40, 30:40, 30:40] = 255"
     ],
     "language": "python",
     "metadata": {},
     "outputs": [],
     "prompt_number": 106
    },
    {
     "cell_type": "code",
     "collapsed": false,
     "input": [
      "for ind in np.ndindex(data.shape):\n",
      "    d = ind - np.array([32, 32, 32])\n",
      "    data[ind] = (np.sum(d**2))**0.5"
     ],
     "language": "python",
     "metadata": {},
     "outputs": [],
     "prompt_number": 119
    },
    {
     "cell_type": "code",
     "collapsed": false,
     "input": [
      "blob_data = (1/(data + 1)*800)\n",
      "blob_data[blob_data > 255] = 255"
     ],
     "language": "python",
     "metadata": {},
     "outputs": [],
     "prompt_number": 120
    },
    {
     "cell_type": "code",
     "collapsed": false,
     "input": [
      "array_to_png(blob_data, \"test_blob.png\", height=256, width=256)"
     ],
     "language": "python",
     "metadata": {},
     "outputs": [],
     "prompt_number": 121
    },
    {
     "cell_type": "code",
     "collapsed": false,
     "input": [
      "cube_data = data\n",
      "array_to_png(cube_data, \"test_cube.png\", height=256, width=256)"
     ],
     "language": "python",
     "metadata": {},
     "outputs": [],
     "prompt_number": 4
    },
    {
     "cell_type": "code",
     "collapsed": false,
     "input": [
      "from IPython.display import Image\n",
      "Image(filename='./test_blob.png')"
     ],
     "language": "python",
     "metadata": {},
     "outputs": [
      {
       "metadata": {},
       "output_type": "pyout",
       "png": "[encoded data removed]",
       "prompt_number": 118,
       "text": [
        "<IPython.core.display.Image at 0x10538b710>"
       ]
      }
     ],
     "prompt_number": 118
    },
    {
     "cell_type": "code",
     "collapsed": false,
     "input": [
      "a = np.array([1,2,3])\n",
      "b = np.array([4,5,6])\n",
      "\n",
      "a[:2] + b[:2]"
     ],
     "language": "python",
     "metadata": {},
     "outputs": [
      {
       "metadata": {},
       "output_type": "pyout",
       "prompt_number": 117,
       "text": [
        "array([5, 7])"
       ]
      }
     ],
     "prompt_number": 117
    },
    {
     "cell_type": "code",
     "collapsed": false,
     "input": [
      "def sampleAs3DTexture(tex, pos, dataShape, texShape):\n",
      "    nTiles = np.array(texShape[:2]) / np.array(dataShape[:2])\n",
      "    tilesPerLayer = nTiles[0] * nTiles[1]\n",
      "\n",
      "    tileDim = np.array([1.0, 1.0]) / nTiles\n",
      "    thisTileN = np.floor((dataShape[2]-1.0) * pos[2])\n",
      "\n",
      "    zTile = np.floor(thisTileN/tilesPerLayer)\n",
      "    yTile = np.floor((thisTileN - (zTile * tilesPerLayer)) / nTiles[0])\n",
      "    xTile = np.mod((thisTileN - (zTile * tilesPerLayer)), nTiles[0])\n",
      "    thisTile = np.array([xTile, yTile, zTile])\n",
      "\n",
      "    thisPoint = (thisTile[:2]+pos[:2]) * tileDim\n",
      "    \n",
      "    if thisTile[2] == 0.0:\n",
      "        datum = tex[thisPoint[0]*texShape[0], thisPoint[1]*texShape[1], 0]\n",
      "    elif thisTile[2] == 1.0:\n",
      "        datum = tex[thisPoint[0]*texShape[0], thisPoint[1]*texShape[1], 1]\n",
      "    elif thisTile[2] == 2.0:\n",
      "        datum = tex[thisPoint[0]*texShape[0], thisPoint[1]*texShape[1], 2]\n",
      "    elif thisTile[2] == 3.0:\n",
      "        datum = tex[thisPoint[0]*texShape[0], thisPoint[1]*texShape[1], 3]\n",
      "    else:\n",
      "        datum = 9999.9999\n",
      "    \n",
      "\n",
      "    return datum"
     ],
     "language": "python",
     "metadata": {},
     "outputs": [],
     "prompt_number": 96
    },
    {
     "cell_type": "code",
     "collapsed": false,
     "input": [
      "tiled_array = tile_array(blob_data, maxx=256, maxy=256, maxz=4)"
     ],
     "language": "python",
     "metadata": {},
     "outputs": [],
     "prompt_number": 122
    },
    {
     "cell_type": "code",
     "collapsed": false,
     "input": [
      "print 30/64\n",
      "print 40/64"
     ],
     "language": "python",
     "metadata": {},
     "outputs": [
      {
       "output_type": "stream",
       "stream": "stdout",
       "text": [
        "0.46875\n",
        "0.625\n"
       ]
      }
     ],
     "prompt_number": 123
    },
    {
     "cell_type": "code",
     "collapsed": false,
     "input": [
      "pos = np.array([0.52, 0.52, 0.52])\n",
      "print sampleAs3DTexture(tiled_array, pos, cube_data.shape, tiled_array.shape[:2]) "
     ],
     "language": "python",
     "metadata": {},
     "outputs": [
      {
       "output_type": "stream",
       "stream": "stdout",
       "text": [
        "255.0\n"
       ]
      }
     ],
     "prompt_number": 99
    },
    {
     "cell_type": "code",
     "collapsed": false,
     "input": [
      "30"
     ],
     "language": "python",
     "metadata": {},
     "outputs": []
    },
    {
     "cell_type": "code",
     "collapsed": false,
     "input": [
      "for i in range(10):\n",
      "    for j in range(10):\n",
      "        for k in range(10):\n",
      "            pos = np.array([i/10.0, j/10.0, k/10.0])\n",
      "            res = sampleAs3DTexture(tiled_array, pos, cube_data.shape, tiled_array.shape[:2]) \n",
      "            if res > 255:\n",
      "                print i, j, k"
     ],
     "language": "python",
     "metadata": {},
     "outputs": [
      {
       "output_type": "stream",
       "stream": "stdout",
       "text": [
        "5 5 5\n"
       ]
      }
     ],
     "prompt_number": 129
    },
    {
     "cell_type": "code",
     "collapsed": false,
     "input": [
      "inds = np.where(tiled_array!=0.0)"
     ],
     "language": "python",
     "metadata": {},
     "outputs": [],
     "prompt_number": 126
    },
    {
     "cell_type": "code",
     "collapsed": false,
     "input": [
      "inds[0][0], inds[1][0], inds[2][0]"
     ],
     "language": "python",
     "metadata": {},
     "outputs": [
      {
       "metadata": {},
       "output_type": "pyout",
       "prompt_number": 78,
       "text": [
        "(30, 30, 2)"
       ]
      }
     ],
     "prompt_number": 78
    },
    {
     "cell_type": "code",
     "collapsed": false,
     "input": [
      "30 + 64 + 64"
     ],
     "language": "python",
     "metadata": {},
     "outputs": [
      {
       "metadata": {},
       "output_type": "pyout",
       "prompt_number": 82,
       "text": [
        "158"
       ]
      }
     ],
     "prompt_number": 82
    },
    {
     "cell_type": "code",
     "collapsed": false,
     "input": [
      "tiled_array[30, 30, 2]"
     ],
     "language": "python",
     "metadata": {},
     "outputs": [
      {
       "metadata": {},
       "output_type": "pyout",
       "prompt_number": 84,
       "text": [
        "255.0"
       ]
      }
     ],
     "prompt_number": 84
    },
    {
     "cell_type": "code",
     "collapsed": false,
     "input": [
      "print inds[0]"
     ],
     "language": "python",
     "metadata": {},
     "outputs": [
      {
       "output_type": "stream",
       "stream": "stdout",
       "text": [
        "[ 30  30  30  30  30  30  30  30  30  30  30  30  30  30  30  30  30  30\n",
        "  30  30  31  31  31  31  31  31  31  31  31  31  31  31  31  31  31  31\n",
        "  31  31  31  31  32  32  32  32  32  32  32  32  32  32  32  32  32  32\n",
        "  32  32  32  32  32  32  33  33  33  33  33  33  33  33  33  33  33  33\n",
        "  33  33  33  33  33  33  33  33  34  34  34  34  34  34  34  34  34  34\n",
        "  34  34  34  34  34  34  34  34  34  34  35  35  35  35  35  35  35  35\n",
        "  35  35  35  35  35  35  35  35  35  35  35  35  36  36  36  36  36  36\n",
        "  36  36  36  36  36  36  36  36  36  36  36  36  36  36  37  37  37  37\n",
        "  37  37  37  37  37  37  37  37  37  37  37  37  37  37  37  37  38  38\n",
        "  38  38  38  38  38  38  38  38  38  38  38  38  38  38  38  38  38  38\n",
        "  39  39  39  39  39  39  39  39  39  39  39  39  39  39  39  39  39  39\n",
        "  39  39  94  94  94  94  94  94  94  94  94  94  94  94  94  94  94  94\n",
        "  94  94  94  94  95  95  95  95  95  95  95  95  95  95  95  95  95  95\n",
        "  95  95  95  95  95  95  96  96  96  96  96  96  96  96  96  96  96  96\n",
        "  96  96  96  96  96  96  96  96  97  97  97  97  97  97  97  97  97  97\n",
        "  97  97  97  97  97  97  97  97  97  97  98  98  98  98  98  98  98  98\n",
        "  98  98  98  98  98  98  98  98  98  98  98  98  99  99  99  99  99  99\n",
        "  99  99  99  99  99  99  99  99  99  99  99  99  99  99 100 100 100 100\n",
        " 100 100 100 100 100 100 100 100 100 100 100 100 100 100 100 100 101 101\n",
        " 101 101 101 101 101 101 101 101 101 101 101 101 101 101 101 101 101 101\n",
        " 102 102 102 102 102 102 102 102 102 102 102 102 102 102 102 102 102 102\n",
        " 102 102 103 103 103 103 103 103 103 103 103 103 103 103 103 103 103 103\n",
        " 103 103 103 103 158 158 158 158 158 158 158 158 158 158 158 158 158 158\n",
        " 158 158 158 158 158 158 158 158 158 158 158 158 158 158 158 158 159 159\n",
        " 159 159 159 159 159 159 159 159 159 159 159 159 159 159 159 159 159 159\n",
        " 159 159 159 159 159 159 159 159 159 159 160 160 160 160 160 160 160 160\n",
        " 160 160 160 160 160 160 160 160 160 160 160 160 160 160 160 160 160 160\n",
        " 160 160 160 160 161 161 161 161 161 161 161 161 161 161 161 161 161 161\n",
        " 161 161 161 161 161 161 161 161 161 161 161 161 161 161 161 161 162 162\n",
        " 162 162 162 162 162 162 162 162 162 162 162 162 162 162 162 162 162 162\n",
        " 162 162 162 162 162 162 162 162 162 162 163 163 163 163 163 163 163 163\n",
        " 163 163 163 163 163 163 163 163 163 163 163 163 163 163 163 163 163 163\n",
        " 163 163 163 163 164 164 164 164 164 164 164 164 164 164 164 164 164 164\n",
        " 164 164 164 164 164 164 164 164 164 164 164 164 164 164 164 164 165 165\n",
        " 165 165 165 165 165 165 165 165 165 165 165 165 165 165 165 165 165 165\n",
        " 165 165 165 165 165 165 165 165 165 165 166 166 166 166 166 166 166 166\n",
        " 166 166 166 166 166 166 166 166 166 166 166 166 166 166 166 166 166 166\n",
        " 166 166 166 166 167 167 167 167 167 167 167 167 167 167 167 167 167 167\n",
        " 167 167 167 167 167 167 167 167 167 167 167 167 167 167 167 167 222 222\n",
        " 222 222 222 222 222 222 222 222 222 222 222 222 222 222 222 222 222 222\n",
        " 222 222 222 222 222 222 222 222 222 222 223 223 223 223 223 223 223 223\n",
        " 223 223 223 223 223 223 223 223 223 223 223 223 223 223 223 223 223 223\n",
        " 223 223 223 223 224 224 224 224 224 224 224 224 224 224 224 224 224 224\n",
        " 224 224 224 224 224 224 224 224 224 224 224 224 224 224 224 224 225 225\n",
        " 225 225 225 225 225 225 225 225 225 225 225 225 225 225 225 225 225 225\n",
        " 225 225 225 225 225 225 225 225 225 225 226 226 226 226 226 226 226 226\n",
        " 226 226 226 226 226 226 226 226 226 226 226 226 226 226 226 226 226 226\n",
        " 226 226 226 226 227 227 227 227 227 227 227 227 227 227 227 227 227 227\n",
        " 227 227 227 227 227 227 227 227 227 227 227 227 227 227 227 227 228 228\n",
        " 228 228 228 228 228 228 228 228 228 228 228 228 228 228 228 228 228 228\n",
        " 228 228 228 228 228 228 228 228 228 228 229 229 229 229 229 229 229 229\n",
        " 229 229 229 229 229 229 229 229 229 229 229 229 229 229 229 229 229 229\n",
        " 229 229 229 229 230 230 230 230 230 230 230 230 230 230 230 230 230 230\n",
        " 230 230 230 230 230 230 230 230 230 230 230 230 230 230 230 230 231 231\n",
        " 231 231 231 231 231 231 231 231 231 231 231 231 231 231 231 231 231 231\n",
        " 231 231 231 231 231 231 231 231 231 231]\n"
       ]
      }
     ],
     "prompt_number": 92
    },
    {
     "cell_type": "code",
     "collapsed": false,
     "input": [],
     "language": "python",
     "metadata": {},
     "outputs": []
    }
   ],
   "metadata": {}
  }
 ]
}