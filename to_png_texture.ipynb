{
 "metadata": {
  "name": "",
  "signature": "sha256:db2a973311b54b28de273bc9319911ddc2ff0d6941dfc7d96b2834f5c6051b79"
 },
 "nbformat": 3,
 "nbformat_minor": 0,
 "worksheets": [
  {
   "cells": [
    {
     "cell_type": "markdown",
     "metadata": {},
     "source": [
      "This notebook converts a 3D array into a 2D png suitable for loading as a texture into WebGL"
     ]
    },
    {
     "cell_type": "code",
     "collapsed": false,
     "input": [
      "import png\n",
      "import numpy as np"
     ],
     "language": "python",
     "metadata": {},
     "outputs": [],
     "prompt_number": 1
    },
    {
     "cell_type": "markdown",
     "metadata": {},
     "source": [
      "Make some syntheic 4 x 4 x 4 data to play with. Note that this is a useful shape as the dimension lengths of the 2D texture have to be square numbers."
     ]
    },
    {
     "cell_type": "code",
     "collapsed": false,
     "input": [
      "dataflattest = np.indices([4**3])\n",
      "data = dataflattest.reshape([4,4,4])"
     ],
     "language": "python",
     "metadata": {},
     "outputs": [],
     "prompt_number": 2
    },
    {
     "cell_type": "code",
     "collapsed": false,
     "input": [
      "print data.shape"
     ],
     "language": "python",
     "metadata": {},
     "outputs": [
      {
       "output_type": "stream",
       "stream": "stdout",
       "text": [
        "(4, 4, 4)\n"
       ]
      }
     ],
     "prompt_number": 3
    },
    {
     "cell_type": "code",
     "collapsed": false,
     "input": [
      "data.fill(20)"
     ],
     "language": "python",
     "metadata": {},
     "outputs": [],
     "prompt_number": 4
    },
    {
     "cell_type": "code",
     "collapsed": false,
     "input": [
      "dataflatter = data.reshape(4, -1)"
     ],
     "language": "python",
     "metadata": {},
     "outputs": [],
     "prompt_number": 5
    },
    {
     "cell_type": "code",
     "collapsed": false,
     "input": [
      "data"
     ],
     "language": "python",
     "metadata": {},
     "outputs": [
      {
       "metadata": {},
       "output_type": "pyout",
       "prompt_number": 6,
       "text": [
        "array([[[20, 20, 20, 20],\n",
        "        [20, 20, 20, 20],\n",
        "        [20, 20, 20, 20],\n",
        "        [20, 20, 20, 20]],\n",
        "\n",
        "       [[20, 20, 20, 20],\n",
        "        [20, 20, 20, 20],\n",
        "        [20, 20, 20, 20],\n",
        "        [20, 20, 20, 20]],\n",
        "\n",
        "       [[20, 20, 20, 20],\n",
        "        [20, 20, 20, 20],\n",
        "        [20, 20, 20, 20],\n",
        "        [20, 20, 20, 20]],\n",
        "\n",
        "       [[20, 20, 20, 20],\n",
        "        [20, 20, 20, 20],\n",
        "        [20, 20, 20, 20],\n",
        "        [20, 20, 20, 20]]])"
       ]
      }
     ],
     "prompt_number": 6
    },
    {
     "cell_type": "code",
     "collapsed": false,
     "input": [
      "dataflatter"
     ],
     "language": "python",
     "metadata": {},
     "outputs": [
      {
       "metadata": {},
       "output_type": "pyout",
       "prompt_number": 33,
       "text": [
        "array([[20, 20, 20, 20, 20, 20, 20, 20, 20, 20, 20, 20, 20, 20, 20, 20],\n",
        "       [20, 20, 20, 20, 20, 20, 20, 20, 20, 20, 20, 20, 20, 20, 20, 20],\n",
        "       [20, 20, 20, 20, 20, 20, 20, 20, 20, 20, 20, 20, 20, 20, 20, 20],\n",
        "       [20, 20, 20, 20, 20, 20, 20, 20, 20, 20, 20, 20, 20, 20, 20, 20]])"
       ]
      }
     ],
     "prompt_number": 33
    },
    {
     "cell_type": "code",
     "collapsed": false,
     "input": [
      "png_writer = png.Writer(height=dataflatter.shape[0], width=dataflatter.shape[1], greyscale=True)\n",
      "png_writer.write(open('./test_data_greyscale_constant.png', 'wb'), dataflatter)"
     ],
     "language": "python",
     "metadata": {},
     "outputs": [],
     "prompt_number": 34
    },
    {
     "cell_type": "markdown",
     "metadata": {},
     "source": [
      "I also want a version that repeats the data in every channel i.e. rgba"
     ]
    },
    {
     "cell_type": "code",
     "collapsed": false,
     "input": [
      "png_reader = png.Reader(filename=\"./test_data_greyscale_constant.png\")\n",
      "rgba = png_reader.asRGBA()"
     ],
     "language": "python",
     "metadata": {},
     "outputs": [],
     "prompt_number": 35
    },
    {
     "cell_type": "code",
     "collapsed": false,
     "input": [
      "rgba_list = [i for i in rgba[2]]"
     ],
     "language": "python",
     "metadata": {},
     "outputs": [],
     "prompt_number": 20
    },
    {
     "cell_type": "code",
     "collapsed": false,
     "input": [
      "rgba_list"
     ],
     "language": "python",
     "metadata": {},
     "outputs": [
      {
       "metadata": {},
       "output_type": "pyout",
       "prompt_number": 21,
       "text": [
        "[array('B', [0, 0, 0, 255, 1, 1, 1, 255, 2, 2, 2, 255, 3, 3, 3, 255, 4, 4, 4, 255, 5, 5, 5, 255, 6, 6, 6, 255, 7, 7, 7, 255, 8, 8, 8, 255, 9, 9, 9, 255, 10, 10, 10, 255, 11, 11, 11, 255, 12, 12, 12, 255, 13, 13, 13, 255, 14, 14, 14, 255, 15, 15, 15, 255]),\n",
        " array('B', [16, 16, 16, 255, 17, 17, 17, 255, 18, 18, 18, 255, 19, 19, 19, 255, 20, 20, 20, 255, 21, 21, 21, 255, 22, 22, 22, 255, 23, 23, 23, 255, 24, 24, 24, 255, 25, 25, 25, 255, 26, 26, 26, 255, 27, 27, 27, 255, 28, 28, 28, 255, 29, 29, 29, 255, 30, 30, 30, 255, 31, 31, 31, 255]),\n",
        " array('B', [32, 32, 32, 255, 33, 33, 33, 255, 34, 34, 34, 255, 35, 35, 35, 255, 36, 36, 36, 255, 37, 37, 37, 255, 38, 38, 38, 255, 39, 39, 39, 255, 40, 40, 40, 255, 41, 41, 41, 255, 42, 42, 42, 255, 43, 43, 43, 255, 44, 44, 44, 255, 45, 45, 45, 255, 46, 46, 46, 255, 47, 47, 47, 255]),\n",
        " array('B', [48, 48, 48, 255, 49, 49, 49, 255, 50, 50, 50, 255, 51, 51, 51, 255, 52, 52, 52, 255, 53, 53, 53, 255, 54, 54, 54, 255, 55, 55, 55, 255, 56, 56, 56, 255, 57, 57, 57, 255, 58, 58, 58, 255, 59, 59, 59, 255, 60, 60, 60, 255, 61, 61, 61, 255, 62, 62, 62, 255, 63, 63, 63, 255])]"
       ]
      }
     ],
     "prompt_number": 21
    },
    {
     "cell_type": "code",
     "collapsed": false,
     "input": [
      "png_writer = png.Writer(**rgba[3])\n",
      "png_writer.write(open('./test_data_rgba_constant.png', 'wb'), rgba[2])"
     ],
     "language": "python",
     "metadata": {},
     "outputs": [],
     "prompt_number": 36
    },
    {
     "cell_type": "markdown",
     "metadata": {},
     "source": [
      "We should also try and combine all of this into a generic function"
     ]
    },
    {
     "cell_type": "code",
     "collapsed": false,
     "input": [
      "\"\"\"\n",
      "This module converts 3D (x, y, z) numpy arrays of data tiles (x, y) of data\n",
      "in png files. These can then be read as WebGL textures.\n",
      "\n",
      "The z dimension is deconstructed and the component x, y data is tiled as follows:\n",
      "Columns, then rows, then channel (increasing through R, G, B, A). Note that\n",
      "the RGBA values are unrelated to colors or alpha, they are merely data\n",
      "channels.\n",
      "\n",
      "\"\"\"\n",
      "\n",
      "from __future__ import division\n",
      "import png\n",
      "\n",
      "def tile_array(a, maxx=256, maxy=256, maxz=4):\n",
      "    \"\"\"\n",
      "    Flattens an x,y,z 3D array into an array of x,y tiles\n",
      "    \n",
      "    Tiling order is column, followed by row, followed by channel\n",
      "    \n",
      "    Args:\n",
      "        * a (numpy array): a 3d numpy array of data\n",
      "        * max<xyz> (int): the limits of the image size in pixels.\n",
      "            NB that maxz is either 1 (Grayscale), 3 (RGB) or 4 (RGBA)\n",
      "        \n",
      "    This could be made more efficient using stride tricks\n",
      "    \n",
      "    \"\"\"\n",
      "    \n",
      "    pngarray = np.zeros([maxx, maxy, maxz])\n",
      "    datax, datay, dataz = a.shape\n",
      "    itiles = int(maxx/datax)\n",
      "    jtiles = int(maxy/datay)\n",
      "    zslice = 0\n",
      "    \n",
      "    for z in range(maxz):\n",
      "        for jtile in range(jtiles):\n",
      "            for itile in range(itiles):\n",
      "                _xmin = itile*datax\n",
      "                _xmax = (itile+1)*datax\n",
      "                _ymin = jtile*datay\n",
      "                _ymax = (jtile+1)*datay\n",
      "                \n",
      "                pngarray[_xmin:_xmax, _ymin:_ymax, z] = a[:, :, zslice]\n",
      "                if z+1 == maxz and jtile+1 == jtiles and itile+1 == itiles:\n",
      "                    if zslice+1 < dataz:\n",
      "                        print \"Output array satuated\"\n",
      "                    return pngarray\n",
      "                elif zslice < dataz:\n",
      "                    pngarray[_xmin:_xmax, _ymin:_ymax, z] = a[:, :, zslice]\n",
      "                    zslice += 1\n",
      "\n",
      "\n",
      "def write_png(array, savep, height=256, width=256):\n",
      "    \"\"\"\n",
      "    Writes a tiled array to a png image\n",
      "\n",
      "    args:\n",
      "        * array: x, y, rgba array\n",
      "        * savep: output file\n",
      "        * height/width: the height/width of the image.\n",
      "            Must be a square number for use with WebGL\n",
      "            textures. Need not be equal to each other.\n",
      "\n",
      "    \"\"\"\n",
      "    \n",
      "    if (height**0.5)%1 != 0.0 or (width**0.5)%1 != 0.0:\n",
      "        raise ValueError(\"Dimensions must be square numbers i.e. sqrt(n) must be an integer\")\n",
      "    \n",
      "    png_writer = png.Writer(height=height, width=width, alpha='RGBA')\n",
      "    with open(savep, 'wb') as f:\n",
      "        flat_array = array.reshape(-1, width*4) #assuming RGBA i.e. 4 channels\n",
      "        png_writer.write(f, flat_array)\n",
      "    \n",
      "\n",
      "def array_to_png(data, filename, height=256, width=256):\n",
      "    \"\"\" Converts a x,y,z 3D array to a tiled png image \"\"\"\n",
      "    tiled_array = tile_array(data, maxx=height, maxy=width, maxz=4)\n",
      "    write_png(tiled_array, filename, height, width)\n",
      "\n",
      "\n",
      "if __name__ == '__main__':\n",
      "    print \"Making example tiled png ./example.png\"\n",
      "    data = np.empty([128, 128, 16])\n",
      "    for k in range(16):\n",
      "        data[:,:,k] = k * 10\n",
      "\n",
      "    array_to_png(data, \"example.png\")"
     ],
     "language": "python",
     "metadata": {},
     "outputs": [
      {
       "output_type": "stream",
       "stream": "stdout",
       "text": [
        "Making example tiled png ./example.png\n"
       ]
      }
     ],
     "prompt_number": 14
    },
    {
     "cell_type": "code",
     "collapsed": false,
     "input": [
      "import numpy as np\n",
      "a = np.array([3,3,3])\n",
      "\n",
      "print np.sum((a**2)**0.5)"
     ],
     "language": "python",
     "metadata": {},
     "outputs": [
      {
       "output_type": "stream",
       "stream": "stdout",
       "text": [
        "9.0\n"
       ]
      }
     ],
     "prompt_number": 6
    },
    {
     "cell_type": "code",
     "collapsed": false,
     "input": [
      "data = np.zeros([64, 64, 64])\n",
      "data[30:40, 30:40, 30:40] = 255"
     ],
     "language": "python",
     "metadata": {},
     "outputs": [],
     "prompt_number": 15
    },
    {
     "cell_type": "code",
     "collapsed": false,
     "input": [
      "for ind in np.ndindex(data.shape):\n",
      "    d = ind - np.array([32, 32, 32])\n",
      "    data[ind] = (np.sum(d**2))**0.5"
     ],
     "language": "python",
     "metadata": {},
     "outputs": [],
     "prompt_number": 2
    },
    {
     "cell_type": "code",
     "collapsed": false,
     "input": [
      "data2 = ((1/(data + 1)*800))\n",
      "data2[data2 > 255] = 255"
     ],
     "language": "python",
     "metadata": {},
     "outputs": [],
     "prompt_number": 63
    },
    {
     "cell_type": "code",
     "collapsed": false,
     "input": [
      "print ((64*64*64)/4)**0.5"
     ],
     "language": "python",
     "metadata": {},
     "outputs": [
      {
       "output_type": "stream",
       "stream": "stdout",
       "text": [
        "256.0\n"
       ]
      }
     ],
     "prompt_number": 64
    },
    {
     "cell_type": "code",
     "collapsed": false,
     "input": [
      "array_to_png(data, \"test_cube.png\", height=256, width=256)"
     ],
     "language": "python",
     "metadata": {},
     "outputs": [],
     "prompt_number": 16
    },
    {
     "cell_type": "code",
     "collapsed": false,
     "input": [
      "from IPython.display import Image\n",
      "Image(filename='./test_cube.png')"
     ],
     "language": "python",
     "metadata": {},
     "outputs": [
      {
       "metadata": {},
       "output_type": "pyout",
       "png": "[encoded data removed]",
       "prompt_number": 17,
       "text": [
        "<IPython.core.display.Image at 0x104b84ed0>"
       ]
      }
     ],
     "prompt_number": 17
    },
    {
     "cell_type": "code",
     "collapsed": false,
     "input": [
      "print flt.max()"
     ],
     "language": "python",
     "metadata": {},
     "outputs": [
      {
       "output_type": "stream",
       "stream": "stdout",
       "text": [
        "255\n"
       ]
      }
     ],
     "prompt_number": 13
    },
    {
     "cell_type": "code",
     "collapsed": false,
     "input": [
      "print flt[0,0,:]\n",
      "print flt[132,0,:]\n",
      "print flt[0,132,:]\n",
      "print flt[132,132,:]"
     ],
     "language": "python",
     "metadata": {},
     "outputs": [
      {
       "output_type": "stream",
       "stream": "stdout",
       "text": [
        "[1 1 1 1]\n",
        "[1 1 2 1]\n",
        "[1 2 2 1]\n",
        "[2 2 2 1]\n"
       ]
      }
     ],
     "prompt_number": 37
    },
    {
     "cell_type": "code",
     "collapsed": false,
     "input": [],
     "language": "python",
     "metadata": {},
     "outputs": []
    }
   ],
   "metadata": {}
  }
 ]
}